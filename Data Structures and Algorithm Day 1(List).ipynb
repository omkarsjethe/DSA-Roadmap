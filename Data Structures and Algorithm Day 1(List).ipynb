{
 "cells": [
  {
   "cell_type": "markdown",
   "id": "2df7b306",
   "metadata": {},
   "source": [
    "# List :"
   ]
  },
  {
   "cell_type": "markdown",
   "id": "f1e06acd",
   "metadata": {},
   "source": [
    "list is used to store multiple items in single variable\n",
    "\n",
    "List is used by creating : list=[a,b,c]"
   ]
  },
  {
   "cell_type": "code",
   "execution_count": 1,
   "id": "1de5c9ff",
   "metadata": {},
   "outputs": [
    {
     "name": "stdout",
     "output_type": "stream",
     "text": [
      "['Audi', 'buggati', 'Cadilac']\n"
     ]
    }
   ],
   "source": [
    "a=[\"Audi\",\"buggati\",\"Cadilac\"]\n",
    "print(a)"
   ]
  },
  {
   "cell_type": "markdown",
   "id": "9190a987",
   "metadata": {},
   "source": [
    "List is Ordered in structure\n",
    "\n",
    "List is Changeable means add,remove and change"
   ]
  },
  {
   "cell_type": "code",
   "execution_count": 2,
   "id": "6e0a6419",
   "metadata": {},
   "outputs": [
    {
     "name": "stdout",
     "output_type": "stream",
     "text": [
      "['Audi', 'buggati', 'Dodge']\n"
     ]
    }
   ],
   "source": [
    "a[2]='Dodge'\n",
    "print(a)"
   ]
  },
  {
   "cell_type": "markdown",
   "id": "f0b77cb7",
   "metadata": {},
   "source": [
    "List allows the duplicate values "
   ]
  },
  {
   "cell_type": "code",
   "execution_count": 3,
   "id": "379cf058",
   "metadata": {},
   "outputs": [
    {
     "name": "stdout",
     "output_type": "stream",
     "text": [
      "['Audi', 'buggati', 'Cadilac', 'buggati']\n"
     ]
    }
   ],
   "source": [
    "a=[\"Audi\",\"buggati\",\"Cadilac\",\"buggati\"]\n",
    "print(a)"
   ]
  },
  {
   "cell_type": "markdown",
   "id": "6c9c05df",
   "metadata": {},
   "source": [
    "### Length of list "
   ]
  },
  {
   "cell_type": "code",
   "execution_count": 4,
   "id": "eb6e4473",
   "metadata": {},
   "outputs": [
    {
     "name": "stdout",
     "output_type": "stream",
     "text": [
      "4\n"
     ]
    }
   ],
   "source": [
    "print(len(a))"
   ]
  },
  {
   "cell_type": "markdown",
   "id": "a2224d3a",
   "metadata": {},
   "source": [
    "List can contain all kind of datatype "
   ]
  },
  {
   "cell_type": "code",
   "execution_count": 5,
   "id": "c44e4d18",
   "metadata": {},
   "outputs": [
    {
     "name": "stdout",
     "output_type": "stream",
     "text": [
      "['Omkar', 24.3, True]\n"
     ]
    }
   ],
   "source": [
    "a=[\"Omkar\",24.3,True]\n",
    "print(a)"
   ]
  },
  {
   "cell_type": "markdown",
   "id": "2bf5543d",
   "metadata": {},
   "source": [
    "### To know the type of list"
   ]
  },
  {
   "cell_type": "code",
   "execution_count": 6,
   "id": "b2e6066d",
   "metadata": {},
   "outputs": [
    {
     "name": "stdout",
     "output_type": "stream",
     "text": [
      "<class 'list'>\n"
     ]
    }
   ],
   "source": [
    "print(type(a))"
   ]
  },
  {
   "cell_type": "markdown",
   "id": "f1eb58f0",
   "metadata": {},
   "source": [
    "### List can be used as the constructor "
   ]
  },
  {
   "cell_type": "code",
   "execution_count": 7,
   "id": "e07e3d37",
   "metadata": {},
   "outputs": [
    {
     "name": "stdout",
     "output_type": "stream",
     "text": [
      "['Omkar', 'Sharad']\n"
     ]
    }
   ],
   "source": [
    "a=list((\"Omkar\",\"Sharad\"))\n",
    "print(a)"
   ]
  },
  {
   "cell_type": "markdown",
   "id": "4a84da4d",
   "metadata": {},
   "source": [
    "## Accessing the items in Lists"
   ]
  },
  {
   "cell_type": "code",
   "execution_count": 8,
   "id": "1bb21fc7",
   "metadata": {},
   "outputs": [
    {
     "name": "stdout",
     "output_type": "stream",
     "text": [
      "Sharad\n"
     ]
    }
   ],
   "source": [
    "print(a[1])"
   ]
  },
  {
   "cell_type": "code",
   "execution_count": 9,
   "id": "65651c71",
   "metadata": {},
   "outputs": [
    {
     "name": "stdout",
     "output_type": "stream",
     "text": [
      "5\n"
     ]
    }
   ],
   "source": [
    "a=[0,1,2,3,4,5,6,7,8,9]\n",
    "print(a[5])"
   ]
  },
  {
   "cell_type": "markdown",
   "id": "768f469c",
   "metadata": {},
   "source": [
    "## Reversing and Negative"
   ]
  },
  {
   "cell_type": "code",
   "execution_count": 10,
   "id": "d48aec0e",
   "metadata": {},
   "outputs": [
    {
     "name": "stdout",
     "output_type": "stream",
     "text": [
      "9\n"
     ]
    }
   ],
   "source": [
    "print(a[-1])"
   ]
  },
  {
   "cell_type": "code",
   "execution_count": 11,
   "id": "333b2203",
   "metadata": {},
   "outputs": [
    {
     "name": "stdout",
     "output_type": "stream",
     "text": [
      "7\n"
     ]
    }
   ],
   "source": [
    "print(a[-3])"
   ]
  },
  {
   "cell_type": "markdown",
   "id": "0646d46e",
   "metadata": {},
   "source": [
    "Range Indexing were accesing data from point 1 to point 2"
   ]
  },
  {
   "cell_type": "code",
   "execution_count": 12,
   "id": "d691e985",
   "metadata": {},
   "outputs": [
    {
     "name": "stdout",
     "output_type": "stream",
     "text": [
      "[0, 1, 2, 3, 4]\n"
     ]
    }
   ],
   "source": [
    "print(a[0:5])"
   ]
  },
  {
   "cell_type": "code",
   "execution_count": 13,
   "id": "6df223ba",
   "metadata": {},
   "outputs": [
    {
     "name": "stdout",
     "output_type": "stream",
     "text": [
      "[4, 5, 6, 7, 8]\n"
     ]
    }
   ],
   "source": [
    "print(a[-6:-1])"
   ]
  },
  {
   "cell_type": "code",
   "execution_count": 14,
   "id": "7bdf9c43",
   "metadata": {},
   "outputs": [
    {
     "name": "stdout",
     "output_type": "stream",
     "text": [
      "[0, 2, 4, 6, 8]\n"
     ]
    }
   ],
   "source": [
    "print(a[0:9:2])"
   ]
  },
  {
   "cell_type": "code",
   "execution_count": 15,
   "id": "6f70b309",
   "metadata": {},
   "outputs": [
    {
     "name": "stdout",
     "output_type": "stream",
     "text": [
      "[4, 6, 8]\n"
     ]
    }
   ],
   "source": [
    "print(a[-6:-1 :2])"
   ]
  },
  {
   "cell_type": "code",
   "execution_count": 16,
   "id": "51a1da88",
   "metadata": {},
   "outputs": [
    {
     "name": "stdout",
     "output_type": "stream",
     "text": [
      "Present in list\n"
     ]
    }
   ],
   "source": [
    "a=[\"Omkar\",\"Sharad\",\"Jethe\"]\n",
    "if \"Omkar\" in a :\n",
    "     print(\"Present in list\")\n",
    "else :\n",
    "    print(\"Not present in list\")"
   ]
  },
  {
   "cell_type": "code",
   "execution_count": 17,
   "id": "ed72d026",
   "metadata": {},
   "outputs": [
    {
     "name": "stdout",
     "output_type": "stream",
     "text": [
      "['apple', 'blackcurrant', 'watermelon', 'cherry']\n"
     ]
    }
   ],
   "source": [
    "thislist = [\"apple\", \"banana\", \"cherry\"]\n",
    "thislist[1:2] = [\"blackcurrant\", \"watermelon\"]\n",
    "print(thislist)"
   ]
  },
  {
   "cell_type": "code",
   "execution_count": 18,
   "id": "bc6c4d28",
   "metadata": {},
   "outputs": [
    {
     "name": "stdout",
     "output_type": "stream",
     "text": [
      "['apple', 'watermelon']\n"
     ]
    }
   ],
   "source": [
    "thislist = [\"apple\", \"banana\", \"cherry\"]\n",
    "thislist[1:3] = [\"watermelon\"]\n",
    "print(thislist)"
   ]
  },
  {
   "cell_type": "markdown",
   "id": "99b27cab",
   "metadata": {},
   "source": [
    "### Method\tDescription\n",
    "\n",
    "append()\tAdds an element at the end of the list\n",
    "\n",
    "clear()\tRemoves all the elements from the list\n",
    "\n",
    "copy()\tReturns a copy of the list\n",
    "\n",
    "count()\tReturns the number of elements with the specified value\n",
    "\n",
    "extend()\tAdd the elements of a list (or any iterable), to the end of the current list\n",
    "\n",
    "index()\tReturns the index of the first element with the specified value\n",
    "\n",
    "insert()\tAdds an element at the specified position\n",
    "\n",
    "pop()\tRemoves the element at the specified position\n",
    "\n",
    "remove()\tRemoves the item with the specified value\n",
    "\n",
    "reverse()\tReverses the order of the list\n",
    "\n",
    "sort()\tSorts the list"
   ]
  },
  {
   "cell_type": "markdown",
   "id": "27ba344b",
   "metadata": {},
   "source": [
    "### Insert Items\n",
    "To insert a list item at a specified index, use the insert() method.\n",
    "\n",
    "The insert() method inserts an item at the specified index:"
   ]
  },
  {
   "cell_type": "code",
   "execution_count": 19,
   "id": "0abde462",
   "metadata": {},
   "outputs": [
    {
     "name": "stdout",
     "output_type": "stream",
     "text": [
      "['Omkar', 'Sharad', 'Jethe', 'Govind']\n"
     ]
    }
   ],
   "source": [
    "a.insert(4,\"Govind\")\n",
    "print(a)"
   ]
  },
  {
   "cell_type": "markdown",
   "id": "32dcaebe",
   "metadata": {},
   "source": [
    "### Append Items :\n",
    "To add an item to the end of the list, use the append() method:"
   ]
  },
  {
   "cell_type": "code",
   "execution_count": 20,
   "id": "9d1e3217",
   "metadata": {},
   "outputs": [
    {
     "name": "stdout",
     "output_type": "stream",
     "text": [
      "['Omkar', 'Sharad', 'Jethe', 'Govind', 'Sharayu']\n"
     ]
    }
   ],
   "source": [
    "a.append(\"Sharayu\")\n",
    "print(a)"
   ]
  },
  {
   "cell_type": "markdown",
   "id": "3a206dba",
   "metadata": {},
   "source": [
    "### Extend List\n",
    "To append elements from another list to the current list, use the extend() method."
   ]
  },
  {
   "cell_type": "code",
   "execution_count": 21,
   "id": "011a0d15",
   "metadata": {},
   "outputs": [
    {
     "name": "stdout",
     "output_type": "stream",
     "text": [
      "['Omkar', 'Sharad', 'Jethe', 'Govind', 'Sharayu', 'Atharav', 'varad']\n"
     ]
    }
   ],
   "source": [
    "b=[\"Atharav\",\"varad\"]\n",
    "a.extend(b)\n",
    "print(a)"
   ]
  },
  {
   "cell_type": "code",
   "execution_count": 22,
   "id": "d2e92e52",
   "metadata": {},
   "outputs": [
    {
     "name": "stdout",
     "output_type": "stream",
     "text": [
      "['apple', 'banana', 'cherry', 'mango', 'pineapple', 'papaya']\n"
     ]
    }
   ],
   "source": [
    "thislist = [\"apple\", \"banana\", \"cherry\"]\n",
    "tropical = [\"mango\", \"pineapple\", \"papaya\"]\n",
    "thislist.extend(tropical)\n",
    "print(thislist)"
   ]
  },
  {
   "cell_type": "markdown",
   "id": "e59cd026",
   "metadata": {},
   "source": [
    "### Add Any Iterable\n",
    "The extend() method does not have to append lists, you can add any iterable object (tuples, sets, dictionaries etc.)."
   ]
  },
  {
   "cell_type": "code",
   "execution_count": 23,
   "id": "2cdbd514",
   "metadata": {},
   "outputs": [
    {
     "name": "stdout",
     "output_type": "stream",
     "text": [
      "['Omkar', 'Sharad', 'Jethe', 'Govind', 'Sharayu', 'Atharav', 'varad', 'V', 'i', 'l', 'a', 's']\n"
     ]
    }
   ],
   "source": [
    "b=(\"Vilas\")\n",
    "a.extend(b)\n",
    "print(a)"
   ]
  },
  {
   "cell_type": "markdown",
   "id": "2bcfc536",
   "metadata": {},
   "source": [
    "### Remove Specified Item\n",
    "The remove() method removes the specified item."
   ]
  },
  {
   "cell_type": "code",
   "execution_count": 24,
   "id": "801d74fb",
   "metadata": {},
   "outputs": [
    {
     "name": "stdout",
     "output_type": "stream",
     "text": [
      "['Omkar', 'Sharad', 'Jethe', 'Govind', 'Sharayu', 'Atharav', 'varad', 'i', 'l', 'a', 's']\n"
     ]
    }
   ],
   "source": [
    "a.remove(\"V\")\n",
    "print(a)"
   ]
  },
  {
   "cell_type": "code",
   "execution_count": 25,
   "id": "dcc4fc2c",
   "metadata": {},
   "outputs": [
    {
     "name": "stdout",
     "output_type": "stream",
     "text": [
      "['apple', 'cherry', 'banana', 'kiwi']\n"
     ]
    }
   ],
   "source": [
    "#Remove the first occurrence of \"banana\":\n",
    "\n",
    "thislist = [\"apple\", \"banana\", \"cherry\", \"banana\", \"kiwi\"]\n",
    "thislist.remove(\"banana\")\n",
    "print(thislist)"
   ]
  },
  {
   "cell_type": "markdown",
   "id": "44d33a39",
   "metadata": {},
   "source": [
    "### Remove Specified Index\n",
    "The pop() method removes the specified index."
   ]
  },
  {
   "cell_type": "code",
   "execution_count": 26,
   "id": "47e38692",
   "metadata": {},
   "outputs": [
    {
     "name": "stdout",
     "output_type": "stream",
     "text": [
      "['Omkar', 'Sharad', 'Jethe', 'Govind', 'Sharayu', 'Atharav', 'varad', 'i', 'l', 'a']\n"
     ]
    }
   ],
   "source": [
    "a.pop(10)\n",
    "print(a)"
   ]
  },
  {
   "cell_type": "code",
   "execution_count": 27,
   "id": "60160d84",
   "metadata": {},
   "outputs": [
    {
     "name": "stdout",
     "output_type": "stream",
     "text": [
      "['Omkar', 'Sharad', 'Jethe', 'Govind', 'Sharayu', 'Atharav', 'varad', 'i', 'l']\n"
     ]
    }
   ],
   "source": [
    "a.pop()\n",
    "print(a)"
   ]
  },
  {
   "cell_type": "markdown",
   "id": "03bb822e",
   "metadata": {},
   "source": [
    "The del keyword can also delete the list completely."
   ]
  },
  {
   "cell_type": "code",
   "execution_count": 28,
   "id": "81961c2d",
   "metadata": {},
   "outputs": [
    {
     "ename": "NameError",
     "evalue": "name 'a' is not defined",
     "output_type": "error",
     "traceback": [
      "\u001b[1;31m---------------------------------------------------------------------------\u001b[0m",
      "\u001b[1;31mNameError\u001b[0m                                 Traceback (most recent call last)",
      "Cell \u001b[1;32mIn[28], line 2\u001b[0m\n\u001b[0;32m      1\u001b[0m \u001b[38;5;28;01mdel\u001b[39;00m a\n\u001b[1;32m----> 2\u001b[0m \u001b[38;5;28mprint\u001b[39m(a)\n",
      "\u001b[1;31mNameError\u001b[0m: name 'a' is not defined"
     ]
    }
   ],
   "source": [
    "del a\n",
    "print(a)"
   ]
  },
  {
   "cell_type": "code",
   "execution_count": null,
   "id": "65678e89",
   "metadata": {},
   "outputs": [],
   "source": [
    "a=['Omkar', 'Sharad', 'Jethe', 'Govind', 'Sharayu', 'Atharav', 'varad', 'i', 'l', 'a', 'i', 'l', 'a']\n",
    "print(a)\n",
    "a.clear()\n",
    "print(a)"
   ]
  },
  {
   "cell_type": "code",
   "execution_count": null,
   "id": "04a4a70b",
   "metadata": {},
   "outputs": [],
   "source": [
    "a=['Omkar', 'Sharad', 'Jethe', 'Govind', 'Sharayu', 'Atharav', 'varad', 'i', 'l', 'a', 'i', 'l', 'a']\n",
    "a.sort()\n",
    "print(a)"
   ]
  },
  {
   "cell_type": "code",
   "execution_count": null,
   "id": "43ab199a",
   "metadata": {},
   "outputs": [],
   "source": [
    "b = [100, 50, 65, 82, 23]\n",
    "b.sort()\n",
    "print(b)"
   ]
  },
  {
   "cell_type": "code",
   "execution_count": null,
   "id": "7277976e",
   "metadata": {},
   "outputs": [],
   "source": [
    "b.sort(reverse=True)\n",
    "print(b)"
   ]
  },
  {
   "cell_type": "code",
   "execution_count": null,
   "id": "a757e3b1",
   "metadata": {},
   "outputs": [],
   "source": [
    "thislist = [\"banana\", \"Orange\", \"Kiwi\", \"cherry\"]\n",
    "thislist.sort()\n",
    "print(thislist)"
   ]
  },
  {
   "cell_type": "code",
   "execution_count": null,
   "id": "176493a2",
   "metadata": {},
   "outputs": [],
   "source": [
    "a.reverse()\n",
    "print(a)"
   ]
  },
  {
   "cell_type": "code",
   "execution_count": null,
   "id": "840b7f5d",
   "metadata": {},
   "outputs": [],
   "source": [
    "thislist = [\"banana\", \"Orange\", \"Kiwi\", \"cherry\"]\n",
    "thislist.reverse()\n",
    "print(thislist)"
   ]
  },
  {
   "cell_type": "code",
   "execution_count": null,
   "id": "bf9a00cf",
   "metadata": {},
   "outputs": [],
   "source": [
    "thislist = [\"apple\", \"banana\", \"cherry\"]\n",
    "mylist = thislist.copy()\n",
    "print(mylist)"
   ]
  },
  {
   "cell_type": "code",
   "execution_count": null,
   "id": "3813e9ba",
   "metadata": {},
   "outputs": [],
   "source": [
    "c=b.copy()\n",
    "print(c)"
   ]
  },
  {
   "cell_type": "markdown",
   "id": "c0ebff35",
   "metadata": {},
   "source": [
    "### Join Two Lists\n",
    "There are several ways to join, or concatenate, two or more lists in Python.\n",
    "\n",
    "One of the easiest ways are by using the + operator."
   ]
  },
  {
   "cell_type": "code",
   "execution_count": null,
   "id": "a0d2961c",
   "metadata": {},
   "outputs": [],
   "source": [
    "print(a)"
   ]
  },
  {
   "cell_type": "code",
   "execution_count": null,
   "id": "49f2335e",
   "metadata": {},
   "outputs": [],
   "source": [
    "print(b)"
   ]
  },
  {
   "cell_type": "code",
   "execution_count": null,
   "id": "f7df1368",
   "metadata": {},
   "outputs": [],
   "source": [
    "c=a+b\n",
    "print(c)"
   ]
  },
  {
   "cell_type": "code",
   "execution_count": null,
   "id": "bcc550bd",
   "metadata": {},
   "outputs": [],
   "source": [
    "a.append(b)\n",
    "print(a)"
   ]
  },
  {
   "cell_type": "code",
   "execution_count": null,
   "id": "c7a824bf",
   "metadata": {},
   "outputs": [],
   "source": []
  }
 ],
 "metadata": {
  "kernelspec": {
   "display_name": "Python 3 (ipykernel)",
   "language": "python",
   "name": "python3"
  },
  "language_info": {
   "codemirror_mode": {
    "name": "ipython",
    "version": 3
   },
   "file_extension": ".py",
   "mimetype": "text/x-python",
   "name": "python",
   "nbconvert_exporter": "python",
   "pygments_lexer": "ipython3",
   "version": "3.11.5"
  }
 },
 "nbformat": 4,
 "nbformat_minor": 5
}
